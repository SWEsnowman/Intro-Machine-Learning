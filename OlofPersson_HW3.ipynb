{
 "cells": [
  {
   "cell_type": "code",
   "execution_count": 341,
   "metadata": {},
   "outputs": [],
   "source": [
    "import numpy as np\n",
    "import matplotlib.pyplot as plt\n"
   ]
  },
  {
   "cell_type": "code",
   "execution_count": 342,
   "metadata": {},
   "outputs": [],
   "source": [
    "import pandas as pd\n",
    "DF = pd.read_csv(\"project1_1.csv\")\n",
    "data = DF.to_numpy()\n"
   ]
  },
  {
   "cell_type": "code",
   "execution_count": 343,
   "metadata": {},
   "outputs": [],
   "source": [
    "#Question 1 Part 1\n",
    "#Linear Discriminant Analysis(LDA)\n",
    "def LDA(X,Class):\n",
    "    X0 = []\n",
    "    X1 = []\n",
    "    for i in range(len(Class)):\n",
    "        if Class[i] == 0:\n",
    "            X0.append(X[i])\n",
    "        else:\n",
    "            X1.append(X[i])\n",
    "    mean0 = np.mean(X0, axis=0)\n",
    "    mean1 = np.mean(X1, axis=0)\n",
    "    difmean = mean0 - mean1\n",
    "    Sb = np.matmul(difmean,difmean.T)\n",
    "    difference = X0 - mean0\n",
    "    Sw = np.dot(difference.T,difference)\n",
    "    difference = X1 - mean1\n",
    "    Sw = Sw + np.dot(difference.T,difference)\n",
    "    Sw_inv = np.linalg.pinv(Sw)\n",
    "    w = np.matmul(Sw_inv,difmean)\n",
    "    norm = np.linalg.norm(w)\n",
    "    norm_w = w / norm\n",
    "    return norm_w\n",
    "x1, x2 = LDA(data[:,1:3],data[:,3])\n",
    "\n"
   ]
  },
  {
   "cell_type": "code",
   "execution_count": 344,
   "metadata": {},
   "outputs": [
    {
     "name": "stdout",
     "output_type": "stream",
     "text": [
      "[0, 1, 1, 0, 1, 1, 0, 0, 1, 1, 0, 1, 1, 1, 0, 0, 1, 0, 0, 1, 0, 1, 0, 0, 0, 1, 1, 0, 0, 0, 0, 1, 0, 1, 1, 1, 1, 1, 1, 0, 0, 1, 0, 1, 1, 1, 0, 1, 0, 0, 0, 0, 0, 0, 0, 1, 0, 0, 1, 0, 0, 1, 0, 0, 0, 0, 1, 1, 1, 1, 0, 0, 0, 0, 0, 0, 1, 1, 1, 0, 1, 1, 0, 0, 1, 1, 0, 1, 1, 0, 0, 0, 1, 0, 1, 0, 1, 0, 1, 1]\n"
     ]
    }
   ],
   "source": [
    "#Creating LDA predictions using model\n",
    "LDA_estimates = x1*data[:,1]+x2*data[:,2]\n",
    "est0 = []\n",
    "for i in range(len(LDA_estimates)):\n",
    "    if (LDA_estimates[i] >= 0):\n",
    "        est0.append(0)\n",
    "    else:\n",
    "        est0.append(1)\n",
    "print(est0)"
   ]
  },
  {
   "cell_type": "code",
   "execution_count": 345,
   "metadata": {},
   "outputs": [],
   "source": [
    "#Perceptron\n",
    "def perceptron(X, classes, learn_rate, epochs):\n",
    "    \n",
    "    # X --> Inputs.\n",
    "    # y --> labels/target.\n",
    "    # lr --> learning rate.\n",
    "    # epochs --> Number of iterations\n",
    "    # m-> number of training examples\n",
    "    # n-> number of features \n",
    "    m, n = X.shape\n",
    "    theta = np.zeros((n+1,1))\n",
    "    miss_list = []\n",
    "    \n",
    "    # Training.\n",
    "    for epoch in range(epochs):\n",
    "        \n",
    "        # variable to store #misclassified.\n",
    "        miss = 0\n",
    "        \n",
    "        # looping for every example.\n",
    "        for index, xi in enumerate(X):\n",
    "            \n",
    "            # Insering 1 for bias, X0 = 1.\n",
    "            xi = np.insert(xi, 0, 1).reshape(-1,1)\n",
    "            \n",
    "            # Calculating prediction/hypothesis.\n",
    "            classes_pred = 0\n",
    "            if(np.dot(xi.T, theta) >= 0):\n",
    "                classes_pred = 1\n",
    "            delta_E = (classes[index] - classes_pred)\n",
    "            # Updating if the example is misclassified.\n",
    "            if (classes_pred != classes[index]):\n",
    "                theta = theta + learn_rate*(delta_E*xi)\n",
    "                # Incrementing by 1.\n",
    "                miss = miss + 1\n",
    "        \n",
    "        # Appending number of misclassified examples\n",
    "        # at every iteration.\n",
    "        miss_list.append(miss)\n",
    "        \n",
    "    return theta, miss_list"
   ]
  },
  {
   "cell_type": "code",
   "execution_count": 346,
   "metadata": {},
   "outputs": [
    {
     "name": "stdout",
     "output_type": "stream",
     "text": [
      "[[ 0.1       ]\n",
      " [ 0.13539621]\n",
      " [-0.29571833]] [23, 20, 16, 16, 16, 18, 16, 18, 16, 18, 16, 18, 16, 18, 16, 18, 19, 21, 19, 21, 18, 18, 18, 19, 21, 19, 21, 18, 16, 18, 16, 18, 16, 18, 16, 18, 18, 16, 18, 19, 21, 19, 21, 19, 21, 18, 18, 16, 18, 19, 21, 19, 21, 19, 21, 19, 21, 19, 21, 18, 19, 20, 19, 19, 20, 19, 18, 19, 20, 19, 19, 20, 19, 18, 19, 20, 19, 19, 20, 19, 18, 19, 20, 19, 19, 13, 18, 16, 18, 18, 20, 18, 18, 20, 18, 18, 20, 18, 18, 18]\n"
     ]
    }
   ],
   "source": [
    "theta, lis = perceptron(data[:,1:3],data[:,3],0.1,100)\n",
    "print(theta,lis)"
   ]
  },
  {
   "cell_type": "code",
   "execution_count": 347,
   "metadata": {},
   "outputs": [
    {
     "name": "stdout",
     "output_type": "stream",
     "text": [
      "[1, 1, 1, 0, 1, 1, 1, 0, 1, 1, 0, 1, 1, 1, 0, 0, 1, 0, 1, 1, 0, 1, 0, 0, 0, 1, 1, 1, 1, 0, 0, 1, 0, 1, 1, 1, 1, 1, 1, 0, 0, 1, 0, 1, 1, 1, 1, 1, 0, 1, 0, 0, 0, 0, 1, 1, 0, 0, 1, 0, 0, 1, 0, 0, 0, 1, 1, 1, 1, 1, 0, 0, 0, 0, 1, 0, 1, 1, 1, 0, 1, 1, 1, 0, 1, 1, 0, 1, 1, 0, 0, 0, 1, 0, 1, 1, 1, 0, 1, 1]\n"
     ]
    }
   ],
   "source": [
    "#Creating Perceptron predictions based on the model\n",
    "Per_estimates = 0.1+0.13539621*data[:,1]+-0.29571833*data[:,2]\n",
    "est = []\n",
    "for i in range(len(Per_estimates)):\n",
    "    if (Per_estimates[i] >= 0):\n",
    "        est.append(1)\n",
    "    else:\n",
    "        est.append(0)\n",
    "print(est)"
   ]
  },
  {
   "cell_type": "code",
   "execution_count": 348,
   "metadata": {},
   "outputs": [],
   "source": [
    "#Logistic Regression\n",
    "def funcsigmoid(X):\n",
    "    a = 1/(1+np.exp(-X))\n",
    "    return a \n",
    "def cost(X, Class, theta):\n",
    "    m = np.shape(Class)[0]\n",
    "    h = funcsigmoid(np.matmul(X, theta))\n",
    "    eps = .00001\n",
    "    cost = (1/m)*((np.matmul((-Class).T, np.log(h + eps)))-(np.matmul((1-Class).T, np.log(1-h + eps))))\n",
    "    return cost\n",
    "def logisticReg(X, classes, learn_rate,epochs):\n",
    "    classes = classes[:,np.newaxis]\n",
    "    m = len(classes)\n",
    "    X = np.hstack((np.ones((m,1)),X))\n",
    "    n = np.size(X,1)\n",
    "    theta = np.zeros((n,1))\n",
    "    cost_list = np.zeros((epochs,1))\n",
    "    \n",
    "    for epoch in range(epochs):\n",
    "        theta = theta - learn_rate*(np.matmul(X.T, (funcsigmoid(np.matmul(X,theta)) - classes)))\n",
    "        cost_list[epoch] = cost(X, classes, theta)\n",
    "    return theta, cost_list\n"
   ]
  },
  {
   "cell_type": "code",
   "execution_count": 349,
   "metadata": {},
   "outputs": [
    {
     "name": "stdout",
     "output_type": "stream",
     "text": [
      "[[ 0.37070194]\n",
      " [ 1.19593049]\n",
      " [-4.05204216]]\n"
     ]
    }
   ],
   "source": [
    "theta, costs = logisticReg(data[:,1:3], data[:,3],0.01,100)\n",
    "print(theta)\n",
    "\n",
    "#plt.plot(costs)\n"
   ]
  },
  {
   "cell_type": "code",
   "execution_count": 350,
   "metadata": {},
   "outputs": [
    {
     "name": "stdout",
     "output_type": "stream",
     "text": [
      "[0, 1, 1, 0, 1, 1, 0, 0, 1, 0, 0, 1, 1, 1, 0, 0, 1, 0, 0, 1, 0, 1, 0, 0, 0, 1, 1, 0, 0, 0, 0, 1, 0, 1, 1, 1, 1, 1, 1, 0, 0, 1, 0, 1, 1, 1, 0, 1, 0, 0, 0, 0, 0, 0, 0, 1, 0, 0, 1, 0, 0, 1, 0, 0, 0, 0, 0, 1, 1, 1, 0, 0, 0, 0, 0, 0, 1, 1, 1, 0, 1, 1, 0, 0, 1, 1, 0, 1, 1, 0, 0, 0, 1, 0, 1, 0, 1, 0, 1, 1]\n"
     ]
    }
   ],
   "source": [
    "#Creating Logistic Regression predictions based on the model\n",
    "LogReg_estimates1 = 0.37070194+1.19593049*data[:,1]+-4.05204216*data[:,2]\n",
    "est1 = []\n",
    "for i in range(len(LogReg_estimates1)):\n",
    "    if (LogReg_estimates1[i] >= 0.5):\n",
    "        est1.append(1)\n",
    "    else:\n",
    "        est1.append(0)\n",
    "print(est1)"
   ]
  },
  {
   "cell_type": "code",
   "execution_count": 351,
   "metadata": {},
   "outputs": [
    {
     "name": "stdout",
     "output_type": "stream",
     "text": [
      "Linear Discriminant Analysis:  0.87\n",
      "Perceptron:  0.85\n",
      "Logistic Regression:  0.87\n"
     ]
    }
   ],
   "source": [
    "#Question 1 Part 2\n",
    "#The scores of the models classifications\n",
    "import sklearn.metrics as metric\n",
    "import sklearn.linear_model as lin\n",
    "import sklearn.discriminant_analysis as dis\n",
    "\n",
    "print(\"Linear Discriminant Analysis: \", metric.accuracy_score(est0, data[:,3]))\n",
    "print(\"Perceptron: \",metric.accuracy_score(est, data[:,3]))\n",
    "print(\"Logistic Regression: \", metric.accuracy_score(est1,data[:,3]))"
   ]
  },
  {
   "cell_type": "code",
   "execution_count": 352,
   "metadata": {},
   "outputs": [
    {
     "data": {
      "text/plain": [
       "[<matplotlib.lines.Line2D at 0x17676e0d730>]"
      ]
     },
     "execution_count": 352,
     "metadata": {},
     "output_type": "execute_result"
    },
    {
     "data": {
      "image/png": "[encoded data removed]",
      "text/plain": [
       "<Figure size 640x480 with 1 Axes>"
      ]
     },
     "metadata": {},
     "output_type": "display_data"
    }
   ],
   "source": [
    "#Question 1 Part 3\n",
    "#Visualizations\n",
    "\n",
    "#LDA\n",
    "X0 = []\n",
    "X0_y = []\n",
    "X1 = []\n",
    "X1_y = []\n",
    "for i in range(len(data)):\n",
    "    if est0[i] == 0:\n",
    "        X0.append(data[:,1][i])\n",
    "        X0_y.append(data[:,2][i])\n",
    "    else:\n",
    "        X1.append(data[:,1][i])\n",
    "        X1_y.append(data[:,2][i])\n",
    "plt.plot(X0, X0_y, 'rs')\n",
    "plt.plot(X1, X1_y, 'bs')\n"
   ]
  },
  {
   "cell_type": "code",
   "execution_count": 353,
   "metadata": {},
   "outputs": [
    {
     "data": {
      "text/plain": [
       "[<matplotlib.lines.Line2D at 0x17676e74bb0>]"
      ]
     },
     "execution_count": 353,
     "metadata": {},
     "output_type": "execute_result"
    },
    {
     "data": {
      "image/png": "[encoded data removed]",
      "text/plain": [
       "<Figure size 640x480 with 1 Axes>"
      ]
     },
     "metadata": {},
     "output_type": "display_data"
    }
   ],
   "source": [
    "#Perceptron\n",
    "X0 = []\n",
    "X0_y = []\n",
    "X1 = []\n",
    "X1_y = []\n",
    "for i in range(len(data)):\n",
    "    if est[i] == 0:\n",
    "        X0.append(data[:,1][i])\n",
    "        X0_y.append(data[:,2][i])\n",
    "    else:\n",
    "        X1.append(data[:,1][i])\n",
    "        X1_y.append(data[:,2][i])\n",
    "plt.plot(X0, X0_y, 'rs')\n",
    "plt.plot(X1, X1_y, 'bs')"
   ]
  },
  {
   "cell_type": "code",
   "execution_count": 354,
   "metadata": {},
   "outputs": [
    {
     "data": {
      "text/plain": [
       "[<matplotlib.lines.Line2D at 0x17678037070>]"
      ]
     },
     "execution_count": 354,
     "metadata": {},
     "output_type": "execute_result"
    },
    {
     "data": {
      "image/png": "[encoded data removed]",
      "text/plain": [
       "<Figure size 640x480 with 1 Axes>"
      ]
     },
     "metadata": {},
     "output_type": "display_data"
    }
   ],
   "source": [
    "#Logistic Regression Cost Function\n",
    "plt.plot(costs)"
   ]
  },
  {
   "cell_type": "code",
   "execution_count": 355,
   "metadata": {},
   "outputs": [
    {
     "data": {
      "text/plain": [
       "[<matplotlib.lines.Line2D at 0x17676f0c550>]"
      ]
     },
     "execution_count": 355,
     "metadata": {},
     "output_type": "execute_result"
    },
    {
     "data": {
      "image/png": "[encoded data removed]",
      "text/plain": [
       "<Figure size 640x480 with 1 Axes>"
      ]
     },
     "metadata": {},
     "output_type": "display_data"
    }
   ],
   "source": [
    "#Logistic Regression \n",
    "X0 = []\n",
    "X0_y = []\n",
    "X1 = []\n",
    "X1_y = []\n",
    "for i in range(len(data)):\n",
    "    if est1[i] == 0:\n",
    "        X0.append(data[:,1][i])\n",
    "        X0_y.append(data[:,2][i])\n",
    "    else:\n",
    "        X1.append(data[:,1][i])\n",
    "        X1_y.append(data[:,2][i])\n",
    "plt.plot(X0, X0_y, 'rs')\n",
    "plt.plot(X1, X1_y, 'bs')"
   ]
  },
  {
   "cell_type": "code",
   "execution_count": 359,
   "metadata": {},
   "outputs": [],
   "source": [
    "#Question 2 Part 1\n",
    "import sklearn.preprocessing as preproc\n",
    "normal_data = preproc.scale(data[:,1:3])\n",
    "# real_X0 = []\n",
    "# real_X0_y = []\n",
    "# real_X1 = []\n",
    "# real_X1_y = []\n",
    "# zeros = []\n",
    "# ones = []\n",
    "# for i in range(len(data)):\n",
    "#     if data[:,3][i] == 0:\n",
    "#         zeros.append(data[:,3][i])\n",
    "#         real_X0.append(data[:,1][i])\n",
    "#         real_X0_y.append(data[:,2][i])\n",
    "#     else:\n",
    "#         ones.append(data[:,3][i])\n",
    "#         real_X1.append(data[:,1][i])\n",
    "#         real_X1_y.append(data[:,2][i])\n",
    "# # plt.plot(sqrt_data,2+data[:,2],'rs' )\n",
    "# # plt.plot(2+data[:,1],2+data[:,2], 'b^')\n",
    "# plt.plot(normal_data[:,0], normal_data[:,1], 'gs')"
   ]
  },
  {
   "cell_type": "code",
   "execution_count": 357,
   "metadata": {},
   "outputs": [
    {
     "name": "stdout",
     "output_type": "stream",
     "text": [
      "[0, 1, 1, 0, 1, 1, 1, 0, 1, 1, 0, 1, 1, 1, 0, 0, 1, 0, 1, 1, 0, 1, 0, 0, 0, 1, 1, 0, 0, 0, 0, 1, 0, 1, 1, 1, 1, 1, 1, 0, 0, 1, 0, 1, 1, 1, 0, 1, 0, 0, 0, 0, 0, 0, 0, 1, 0, 0, 1, 0, 0, 1, 0, 0, 0, 0, 1, 1, 1, 1, 0, 0, 0, 0, 0, 0, 1, 1, 0, 0, 1, 1, 0, 1, 1, 1, 0, 1, 1, 0, 0, 0, 1, 0, 1, 1, 1, 0, 1, 1]\n",
      "[1, 1, 1, 0, 1, 1, 1, 0, 1, 1, 0, 1, 1, 1, 0, 0, 1, 0, 1, 1, 0, 1, 0, 0, 0, 1, 1, 0, 0, 0, 0, 1, 0, 1, 1, 1, 1, 1, 1, 0, 0, 1, 0, 1, 1, 1, 0, 1, 0, 1, 0, 0, 0, 0, 1, 1, 0, 0, 1, 0, 0, 1, 0, 0, 0, 0, 1, 1, 1, 1, 0, 0, 0, 0, 1, 0, 1, 1, 1, 0, 1, 1, 1, 1, 1, 1, 0, 1, 1, 0, 0, 0, 1, 0, 1, 1, 1, 0, 1, 1]\n",
      "[0, 1, 1, 0, 1, 1, 0, 0, 1, 1, 0, 1, 1, 1, 0, 0, 1, 0, 1, 1, 0, 1, 0, 0, 0, 1, 1, 0, 0, 0, 0, 1, 0, 1, 1, 1, 1, 1, 1, 0, 0, 1, 0, 1, 1, 1, 0, 1, 0, 0, 0, 0, 0, 0, 0, 1, 0, 0, 1, 0, 0, 1, 0, 0, 0, 0, 1, 1, 1, 1, 0, 0, 0, 0, 0, 0, 1, 1, 0, 0, 1, 1, 0, 0, 1, 1, 0, 1, 1, 0, 0, 0, 1, 0, 1, 1, 1, 0, 1, 1]\n"
     ]
    }
   ],
   "source": [
    "#Question 2 Part 2\n",
    "\n",
    "#the process was standard scaling the data and then the percent of correct goes up by a \n",
    "#little bit for perceptron and logistic regression\n",
    "\n",
    "#below is fitting the data again using the standardized data\n",
    "import math \n",
    "norm_LDA_estimates = x1*normal_data[:,0]+x2*normal_data[:,1]\n",
    "norm_est0 = []\n",
    "for i in range(len(norm_LDA_estimates)):\n",
    "    if (norm_LDA_estimates[i] >= 0):\n",
    "        norm_est0.append(0)\n",
    "    else:\n",
    "        norm_est0.append(1)\n",
    "print(norm_est0)\n",
    "\n",
    "norm_Per_estimates = 0.1+0.13539621*normal_data[:,0]+-0.29571833*normal_data[:,1]\n",
    "norm_est = []\n",
    "for i in range(len(norm_Per_estimates)):\n",
    "    if (norm_Per_estimates[i] >= 0):\n",
    "        norm_est.append(1)\n",
    "    else:\n",
    "        norm_est.append(0)\n",
    "print(norm_est)\n",
    "norm_LogReg_estimates1 = 0.37070194+1.19593049*normal_data[:,0]+-4.05204216*normal_data[:,1]\n",
    "norm_est1 = []\n",
    "for i in range(len(norm_LogReg_estimates1)):\n",
    "    if (norm_LogReg_estimates1[i] >= 0.5):\n",
    "        norm_est1.append(1)\n",
    "    else:\n",
    "        norm_est1.append(0)\n",
    "print(norm_est1)"
   ]
  },
  {
   "cell_type": "code",
   "execution_count": 358,
   "metadata": {},
   "outputs": [
    {
     "name": "stdout",
     "output_type": "stream",
     "text": [
      "Standardized Linear Discriminant Analysis:  0.86\n",
      "Standardized Perceptron:  0.86\n",
      "Standardized Logistic Regression:  0.88\n"
     ]
    }
   ],
   "source": [
    "print(\"Standardized Linear Discriminant Analysis: \", metric.accuracy_score(norm_est0, data[:,3]))\n",
    "print(\"Standardized Perceptron: \",metric.accuracy_score(norm_est, data[:,3]))\n",
    "print(\"Standardized Logistic Regression: \", metric.accuracy_score(norm_est1,data[:,3]))\n",
    "#Scores improved in perceptron and logistic regression "
   ]
  }
 ],
 "metadata": {
  "kernelspec": {
   "display_name": "base",
   "language": "python",
   "name": "python3"
  },
  "language_info": {
   "codemirror_mode": {
    "name": "ipython",
    "version": 3
   },
   "file_extension": ".py",
   "mimetype": "text/x-python",
   "name": "python",
   "nbconvert_exporter": "python",
   "pygments_lexer": "ipython3",
   "version": "3.9.13"
  },
  "orig_nbformat": 4
 },
 "nbformat": 4,
 "nbformat_minor": 2
}
