{
 "cells": [
  {
   "cell_type": "code",
   "execution_count": 245,
   "metadata": {},
   "outputs": [],
   "source": [
    "import numpy as np\n",
    "import pandas as pd\n",
    "from scipy.stats import binom\n",
    "import matplotlib.pyplot as pp\n",
    "#question 2 part 1 function that uses np.random.binomial\n",
    "def is_one(x):\n",
    "    if x == 1: return True\n",
    "    else: return False\n",
    "def coin_flip_prop(k, p, t):\n",
    "    instance_array = np.random.binomial(k,p,t*50)\n",
    "    only_ones = list(filter(is_one,instance_array))\n",
    "    return len(only_ones)/(t*50)\n",
    "\n"
   ]
  },
  {
   "cell_type": "code",
   "execution_count": 246,
   "metadata": {},
   "outputs": [
    {
     "name": "stdout",
     "output_type": "stream",
     "text": [
      "[1, 2, 3, 4, 5, 6, 7, 8, 9, 10, 11, 12, 13, 14, 15, 16, 17, 18, 19, 20, 21, 22, 23, 24, 25, 26, 27, 28, 29, 30, 31, 32, 33, 34, 35, 36, 37, 38, 39, 40, 41, 42, 43, 44, 45, 46, 47, 48, 49, 50, 51, 52, 53, 54, 55, 56, 57, 58, 59, 60, 61, 62, 63, 64, 65, 66, 67, 68, 69, 70, 71, 72, 73, 74, 75, 76, 77, 78, 79, 80, 81, 82, 83, 84, 85, 86, 87, 88, 89, 90, 91, 92, 93, 94, 95, 96, 97, 98, 99, 100, 101, 102, 103, 104, 105, 106, 107, 108, 109, 110, 111, 112, 113, 114, 115, 116, 117, 118, 119, 120, 121, 122, 123, 124, 125, 126, 127, 128, 129, 130, 131, 132, 133, 134, 135, 136, 137, 138, 139, 140, 141, 142, 143, 144, 145, 146, 147, 148, 149, 150, 151, 152, 153, 154, 155, 156, 157, 158, 159, 160, 161, 162, 163, 164, 165, 166, 167, 168, 169, 170, 171, 172, 173, 174, 175, 176, 177, 178, 179, 180, 181, 182, 183, 184, 185, 186, 187, 188, 189, 190, 191, 192, 193, 194, 195, 196, 197, 198, 199, 200]\n"
     ]
    }
   ],
   "source": [
    "prop_array = []\n",
    "for i in range(1,201):\n",
    "    prop_array.append(coin_flip_prop(1,.5,i))\n",
    "num_spins = list(range(1,201))\n",
    "print(num_spins)\n",
    "\n"
   ]
  },
  {
   "cell_type": "code",
   "execution_count": 247,
   "metadata": {},
   "outputs": [
    {
     "data": {
      "text/plain": [
       "[<matplotlib.lines.Line2D at 0x24f0f7081f0>]"
      ]
     },
     "execution_count": 247,
     "metadata": {},
     "output_type": "execute_result"
    },
    {
     "data": {
      "image/png": "[encoded data removed]",
      "text/plain": [
       "<Figure size 640x480 with 1 Axes>"
      ]
     },
     "metadata": {},
     "output_type": "display_data"
    }
   ],
   "source": [
    "#question 2 part 1 visualization\n",
    "pp.plot(num_spins, prop_array, \"or\")"
   ]
  },
  {
   "cell_type": "code",
   "execution_count": 248,
   "metadata": {},
   "outputs": [
    {
     "name": "stdout",
     "output_type": "stream",
     "text": [
      "0.31249999999999983\n"
     ]
    }
   ],
   "source": [
    "#question 2 part 2 numerical calculation\n",
    "#since each flip of each coin is independent of each other than multiplying \n",
    "#the probabilities yeilds the chance of having two heads\n",
    "print(binom.pmf(2,5,.5))"
   ]
  },
  {
   "cell_type": "code",
   "execution_count": 249,
   "metadata": {},
   "outputs": [
    {
     "name": "stdout",
     "output_type": "stream",
     "text": [
      "0.4993194640501742\n"
     ]
    }
   ],
   "source": [
    "#question 2 part 3 average probability\n",
    "print(sum(prop_array)/200) #200 is equal to number of observations when doing N from 1 .. 200"
   ]
  },
  {
   "cell_type": "code",
   "execution_count": 250,
   "metadata": {},
   "outputs": [
    {
     "name": "stdout",
     "output_type": "stream",
     "text": [
      "203\n"
     ]
    }
   ],
   "source": [
    "#Question 3 part 1\n",
    "data_frame1 = pd.read_csv(\"Country.csv\",encoding = \"ISO-8859-1\")\n",
    "data_frame2 = pd.read_csv(\"GDP.csv\",encoding = \"ISO-8859-1\")\n",
    "df_combine = data_frame1.merge(data_frame2,left_on = \"CountryCode\",right_on = \"Country ID\", how = \"left\")\n",
    "#print(df_combine)\n",
    "#df_combine.to_csv(\"merged_excel\")\n",
    "#There are 203 countries that have a GDP so 203 that were merged\n",
    "print(len(df_combine[(df_combine[\"GDP\"] != \"..\") & (pd.notnull(df_combine[\"GDP\"]))]))\n",
    "#all empty values are given 0 as a filler\n",
    "df_combine[\"GDP\"] = df_combine[\"GDP\"].fillna(value=\"0\")\n"
   ]
  },
  {
   "cell_type": "code",
   "execution_count": 252,
   "metadata": {},
   "outputs": [
    {
     "name": "stdout",
     "output_type": "stream",
     "text": [
      "East Asia & Pacific:  36\n",
      "Europe & Central Asia:  57\n",
      "Latin America & Caribbean:  38\n",
      "Middle East & North Africa:  21\n",
      "North America:  3\n",
      "South Asia:  8\n",
      "Sub-Saharan Africa:  47\n",
      "Most Countries:  57\n",
      "Least Countries:  3\n"
     ]
    }
   ],
   "source": [
    "#Question 3 part 2\n",
    "asia = df_combine[df_combine[\"Region\"] == \"East Asia & Pacific\"]\n",
    "#print(asia)\n",
    "print(\"East Asia & Pacific: \",len(asia))\n",
    "europe = df_combine[df_combine[\"Region\"] == \"Europe & Central Asia\"]\n",
    "#print(europe)\n",
    "print(\"Europe & Central Asia: \", len(europe))\n",
    "latinamerica = df_combine[df_combine[\"Region\"] == \"Latin America & Caribbean\"]\n",
    "#print(europe)\n",
    "print(\"Latin America & Caribbean: \", len(latinamerica))\n",
    "middleeast = df_combine[df_combine[\"Region\"] == \"Middle East & North Africa\"]\n",
    "\n",
    "print(\"Middle East & North Africa: \", len(middleeast))\n",
    "northamerica = df_combine[df_combine[\"Region\"] == \"North America\"]\n",
    "\n",
    "print(\"North America: \", len(northamerica))\n",
    "southasia = df_combine[df_combine[\"Region\"] == \"South Asia\"]\n",
    "\n",
    "print(\"South Asia: \", len(southasia))\n",
    "subafrica = df_combine[df_combine[\"Region\"] == \"Sub-Saharan Africa\"]\n",
    "\n",
    "print(\"Sub-Saharan Africa: \", len(subafrica))\n",
    "regions = [asia, europe, latinamerica, middleeast, northamerica, southasia, subafrica]\n",
    "regions_str = [\"asia\", \"europe\", \"latinamerica\", \"middleeast\", \"northamerica\", \"southasia\", \"subafrica\"]\n",
    "len_regions = list(map(len,regions))\n",
    "print(\"Most Countries: \", max(len_regions))\n",
    "print(\"Least Countries: \", min(len_regions))"
   ]
  },
  {
   "cell_type": "code",
   "execution_count": 253,
   "metadata": {},
   "outputs": [
    {
     "name": "stdout",
     "output_type": "stream",
     "text": [
      "asia , europe : KstestResult(statistic=0.37719298245614036, pvalue=0.002529089435464832)\n",
      "asia , latinamerica : KstestResult(statistic=0.28362573099415206, pvalue=0.07965006523291802)\n",
      "asia , middleeast : KstestResult(statistic=0.44841269841269843, pvalue=0.006205833681378463)\n",
      "asia , northamerica : KstestResult(statistic=0.6111111111111112, pvalue=0.17769996717365133)\n",
      "asia , southasia : KstestResult(statistic=0.4722222222222222, pvalue=0.079352669077122)\n",
      "asia , subafrica : KstestResult(statistic=0.3528368794326241, pvalue=0.008638586255632892)\n",
      "europe , latinamerica : KstestResult(statistic=0.2543859649122807, pvalue=0.09261962490739233)\n",
      "europe , middleeast : KstestResult(statistic=0.19548872180451127, pvalue=0.5298430439582013)\n",
      "europe , northamerica : KstestResult(statistic=0.5789473684210527, pvalue=0.21145528930450036)\n",
      "europe , southasia : KstestResult(statistic=0.17324561403508773, pvalue=0.9567942115317313)\n",
      "europe , subafrica : KstestResult(statistic=0.49384098544232924, pvalue=2.88808550217919e-06)\n",
      "latinamerica , middleeast : KstestResult(statistic=0.41478696741854637, pvalue=0.012701591902080504)\n",
      "latinamerica , northamerica : KstestResult(statistic=0.6403508771929824, pvalue=0.11913696060037529)\n",
      "latinamerica , southasia : KstestResult(statistic=0.2631578947368421, pvalue=0.6639954043342536)\n",
      "latinamerica , subafrica : KstestResult(statistic=0.2872340425531915, pvalue=0.04844365051710119)\n",
      "middleeast , northamerica : KstestResult(statistic=0.6666666666666666, pvalue=0.13241106719367587)\n",
      "middleeast , southasia : KstestResult(statistic=0.30952380952380953, pvalue=0.5245190924351344)\n",
      "middleeast , subafrica : KstestResult(statistic=0.6605876393110436, pvalue=1.4502961302215369e-06)\n",
      "northamerica , southasia : KstestResult(statistic=0.5416666666666666, pvalue=0.4242424242424242)\n",
      "northamerica , subafrica : KstestResult(statistic=0.6666666666666666, pvalue=0.08653061224489794)\n",
      "southasia , subafrica : KstestResult(statistic=0.4946808510638298, pvalue=0.045736550620013444)\n"
     ]
    }
   ],
   "source": [
    "#Question 3 part 3\n",
    "import locale\n",
    "from scipy.stats import kstest, ks_1samp, ks_2samp\n",
    "locale.setlocale(locale.LC_ALL, 'en_US.UTF-8')\n",
    "def change_data(x):\n",
    "    if x == '..': \n",
    "        return 0\n",
    "    else:\n",
    "        return locale.atoi(x)\n",
    "regions_arrays = []\n",
    "for i,y in zip(regions,range(7)):\n",
    "    regions_arrays.append(list(map(change_data,i[\"GDP\"])))\n",
    "    #print(\"middle: \", sum(array)/(len(i)))\n",
    "asia_array = regions_arrays[0]\n",
    "europe_array = regions_arrays[1]\n",
    "latin_array = regions_arrays[2]\n",
    "middle_east_array = regions_arrays[3]\n",
    "northa_array = regions_arrays[4]\n",
    "south_asia_array = regions_arrays[5]\n",
    "sub_africa_array = regions_arrays[6]\n",
    "\n",
    "for i in range(7):\n",
    "    for j in range(i+1,7):\n",
    "        print(regions_str[i], \",\",regions_str[j], \":\",ks_2samp(regions_arrays[i],regions_arrays[j]))\n",
    "#According to the KS tests, the regions (europe and middle east), (europe and southasia), (latin america and south asia), \n",
    "#(middle east and south asia), and (north america and south asia) are very likely similar and the regions at a 5% significance\n",
    "#including the ones above that are similar are (asia and latin america), (asia and north america), (asia and south asia),\n",
    "#(europe and latin america), (europe and north america), (latin america and north america), (middle east and north america), and \n",
    "#(north american and sub-saharan africa).\n",
    "    \n"
   ]
  },
  {
   "cell_type": "code",
   "execution_count": 254,
   "metadata": {},
   "outputs": [
    {
     "name": "stdout",
     "output_type": "stream",
     "text": [
      "High income: OECD 211146.75 486528.5 1480047.25\n",
      "High income: nonOECD 0.0 8149.0 43582.0\n",
      "Low income 2937.0 7330.0 14984.0\n",
      "Lower middle income 2123.25 21149.0 76264.0\n",
      "Upper middle income 4692.5 42344.0 204789.5\n"
     ]
    }
   ],
   "source": [
    "#Question 3 Part 4\n",
    "high_incomeOCD = list(map(change_data,(df_combine[df_combine[\"Income Group\"] == \"High income: OECD\"][\"GDP\"])))\n",
    "high_incomeNOCD = list(map(change_data,(df_combine[df_combine[\"Income Group\"] == \"High income: nonOECD\"][\"GDP\"])))\n",
    "low_income = list(map(change_data,(df_combine[df_combine[\"Income Group\"] == \"Low income\"][\"GDP\"])))\n",
    "low_mid = list(map(change_data,(df_combine[df_combine[\"Income Group\"] == \"Lower middle income\"][\"GDP\"])))\n",
    "upper_mid = list(map(change_data,(df_combine[df_combine[\"Income Group\"] == \"Upper middle income\"][\"GDP\"])))\n",
    "\n",
    "print(\"High income: OECD\",np.quantile(high_incomeOCD, .25),np.quantile(high_incomeOCD, .50),np.quantile(high_incomeOCD, .75))\n",
    "print(\"High income: nonOECD\",np.quantile(high_incomeNOCD, .25),np.quantile(high_incomeNOCD, .50),np.quantile(high_incomeNOCD, .75))\n",
    "print(\"Low income\",np.quantile(low_income, .25),np.quantile(low_income, .50),np.quantile(low_income, .75))\n",
    "print(\"Lower middle income\",np.quantile(low_mid, .25),np.quantile(low_mid, .50),np.quantile(low_mid, .75))\n",
    "print(\"Upper middle income\",np.quantile(upper_mid, .25),np.quantile(upper_mid, .50),np.quantile(upper_mid, .75))\n",
    "#The quantiles of each income group is below with the 25%, 50%, 75% reported respectively for each income. \n"
   ]
  },
  {
   "cell_type": "code",
   "execution_count": 255,
   "metadata": {},
   "outputs": [
    {
     "name": "stdout",
     "output_type": "stream",
     "text": [
      "PassengerId      int64\n",
      "Survived         int64\n",
      "Pclass           int64\n",
      "Name            object\n",
      "Sex             object\n",
      "Age            float64\n",
      "SibSp            int64\n",
      "Parch            int64\n",
      "Ticket          object\n",
      "Fare           float64\n",
      "Cabin           object\n",
      "Embarked        object\n",
      "dtype: object\n"
     ]
    }
   ],
   "source": [
    "#Question 4 part 1\n",
    "df_titanic = pd.read_csv(\"Titanic_train.csv\")\n",
    "print(df_titanic.dtypes)\n"
   ]
  },
  {
   "cell_type": "code",
   "execution_count": 256,
   "metadata": {},
   "outputs": [
    {
     "name": "stdout",
     "output_type": "stream",
     "text": [
      "PassengerId \n",
      "Number of Nulls: 0 \n",
      "Total number in column:  891\n",
      "Survived \n",
      "Number of Nulls: 0 \n",
      "Total number in column:  891\n",
      "Pclass \n",
      "Number of Nulls: 0 \n",
      "Total number in column:  891\n",
      "Name \n",
      "Number of Nulls: 0 \n",
      "Total number in column:  891\n",
      "Sex \n",
      "Number of Nulls: 0 \n",
      "Total number in column:  891\n",
      "Age \n",
      "Number of Nulls: 177 \n",
      "Total number in column:  891\n",
      "SibSp \n",
      "Number of Nulls: 0 \n",
      "Total number in column:  891\n",
      "Parch \n",
      "Number of Nulls: 0 \n",
      "Total number in column:  891\n",
      "Ticket \n",
      "Number of Nulls: 0 \n",
      "Total number in column:  891\n",
      "Fare \n",
      "Number of Nulls: 0 \n",
      "Total number in column:  891\n",
      "Cabin \n",
      "Number of Nulls: 687 \n",
      "Total number in column:  891\n",
      "Embarked \n",
      "Number of Nulls: 2 \n",
      "Total number in column:  891\n",
      "Drop = 29.7\n",
      "Fill with Mean = 29.7\n",
      "Fill with Median = 29.36\n",
      "Fill with 0 = 23.8\n"
     ]
    }
   ],
   "source": [
    "#Question 4 part 2\n",
    "columns = list(df_titanic.columns)\n",
    "for i in columns:\n",
    "    num_null = len(list(filter(lambda x: pd.isnull(x),df_titanic[i])))\n",
    "    print(i, \"\\nNumber of Nulls:\", num_null, \"\\nTotal number in column: \", len(df_titanic[i]))\n",
    "#Based on the numbers below. I think that the Cabin field would probably be ignored or deleted, because it is not a field\n",
    "#that could be really approximated using averages or anything like that and there is more than 77% of the data not there.\n",
    "\n",
    "#For the Embarked field, I think that the 2 missing values can be omitted because if they were added or eliminated it \n",
    "#won't effect the data too much.\n",
    "\n",
    "#For the last field, Age, that has missing values, a test of the effect that ignoring the missing values or inputting numbers\n",
    "#would have to be done to figure out what to do with the Age missing values\n",
    "X0 = df_titanic[\"Age\"].dropna()\n",
    "X1=df_titanic[\"Age\"].fillna(value=df_titanic[\"Age\"].mean())\n",
    "X2=df_titanic[\"Age\"].fillna(value=df_titanic[\"Age\"].median())\n",
    "X3=df_titanic[\"Age\"].fillna(value=0)\n",
    "print(\"Drop =\",round(X0.mean(),2))\n",
    "print(\"Fill with Mean =\",round(X1.mean(),2))\n",
    "print(\"Fill with Median =\",round(X2.mean(),2))\n",
    "print(\"Fill with 0 =\",round(X3.mean(),2))\n",
    "#Based on the means and medians, I think that either ignoring the null values or inputting the values as the mean would be appropriate "
   ]
  },
  {
   "cell_type": "code",
   "execution_count": 257,
   "metadata": {},
   "outputs": [],
   "source": [
    "#Question 4 part 3\n",
    "#The Cabin feature can be removed because 77% of the data values are missing, and there is no way to figure out\n",
    "#what actual cabins anyone stayed in "
   ]
  },
  {
   "cell_type": "code",
   "execution_count": 259,
   "metadata": {},
   "outputs": [
    {
     "name": "stdout",
     "output_type": "stream",
     "text": [
      "0      0\n",
      "1      1\n",
      "2      1\n",
      "3      1\n",
      "4      0\n",
      "      ..\n",
      "886    0\n",
      "887    1\n",
      "888    1\n",
      "889    0\n",
      "890    0\n",
      "Name: Sex, Length: 891, dtype: int32\n",
      "0      2\n",
      "1      0\n",
      "2      2\n",
      "3      2\n",
      "4      2\n",
      "      ..\n",
      "886    2\n",
      "887    2\n",
      "888    2\n",
      "889    0\n",
      "890    1\n",
      "Name: Embarked, Length: 891, dtype: int32\n"
     ]
    }
   ],
   "source": [
    "#Question 4 part 4\n",
    "#The only two features that aren't already floats or ints that make sense to change from text to numbers are sex and embarked \n",
    "#since the can easily be changed since there are only two or three options, but the features that dont make sense are name and \n",
    "#ticket because they aren't formatted in a way that make is easy or convenient because the ticket feature has extras letters\n",
    "#that are easy to understand what they mean and also names can't really be changed to numbers.\n",
    "df_titanic[\"Sex\"] = df_titanic[\"Sex\"].str.replace(\"female\", \"1\")\n",
    "df_titanic[\"Sex\"] = df_titanic[\"Sex\"].str.replace(\"male\", \"0\")\n",
    "df_titanic[\"Sex\"] = df_titanic[\"Sex\"].astype(int)\n",
    "print(df_titanic[\"Sex\"])\n",
    "\n",
    "df_titanic[\"Embarked\"] = df_titanic[\"Embarked\"].str.replace(\"C\", \"0\")\n",
    "df_titanic[\"Embarked\"] = df_titanic[\"Embarked\"].str.replace(\"Q\", \"1\")\n",
    "df_titanic[\"Embarked\"] = df_titanic[\"Embarked\"].str.replace(\"S\", \"2\")\n",
    "df_titanic[\"Embarked\"] = df_titanic[\"Embarked\"].fillna(value = \"3\")\n",
    "df_titanic[\"Embarked\"] = df_titanic[\"Embarked\"].astype(int)\n",
    "print(df_titanic[\"Embarked\"])\n"
   ]
  }
 ],
 "metadata": {
  "kernelspec": {
   "display_name": "Python 3 (ipykernel)",
   "language": "python",
   "name": "python3"
  },
  "language_info": {
   "codemirror_mode": {
    "name": "ipython",
    "version": 3
   },
   "file_extension": ".py",
   "mimetype": "text/x-python",
   "name": "python",
   "nbconvert_exporter": "python",
   "pygments_lexer": "ipython3",
   "version": "3.9.13"
  },
  "vscode": {
   "interpreter": {
    "hash": "712d2ee7cf2d33dbf2b4664dc9f5c9ba6593f791d35d52773ba640cf58f47738"
   }
  }
 },
 "nbformat": 4,
 "nbformat_minor": 2
}
